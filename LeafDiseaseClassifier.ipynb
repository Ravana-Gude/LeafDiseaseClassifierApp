
import os
from tensorflow.keras.preprocessing.image import ImageDataGenerator

# Path to your PlantVillage dataset
data_dir = r"C:\Users\ravan\Downloads\archive (2)\PlantVillage\PlantVillage"  

# Image configuration
img_height, img_width = 128, 128
batch_size = 32

# Create ImageDataGenerator instances
datagen = ImageDataGenerator(
    rescale=1./255,          # normalize pixel values
    validation_split=0.2     # 20% for validation
)

# Training set
train_data = datagen.flow_from_directory(
    data_dir,
    target_size=(img_height, img_width),
    batch_size=batch_size,
    class_mode='categorical',   # for CNN, one-hot
    subset='training',
    shuffle=True
)

# Validation set
val_data = datagen.flow_from_directory(
    data_dir,
    target_size=(img_height, img_width),
    batch_size=batch_size,
    class_mode='categorical',
    subset='validation',
    shuffle=True
)

# Show class indices
print("\n Class Labels Mapping:")
print(train_data.class_indices)
